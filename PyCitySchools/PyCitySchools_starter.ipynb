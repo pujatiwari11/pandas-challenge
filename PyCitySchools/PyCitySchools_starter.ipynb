{
 "cells": [
  {
   "cell_type": "markdown",
   "metadata": {},
   "source": [
    "### Note\n",
    "* Instructions have been included for each segment. You do not have to follow them exactly, but they are included to help you think through the steps."
   ]
  },
  {
   "cell_type": "code",
   "execution_count": 1,
   "metadata": {},
   "outputs": [
    {
     "data": {
      "text/html": [
       "<div>\n",
       "<style scoped>\n",
       "    .dataframe tbody tr th:only-of-type {\n",
       "        vertical-align: middle;\n",
       "    }\n",
       "\n",
       "    .dataframe tbody tr th {\n",
       "        vertical-align: top;\n",
       "    }\n",
       "\n",
       "    .dataframe thead th {\n",
       "        text-align: right;\n",
       "    }\n",
       "</style>\n",
       "<table border=\"1\" class=\"dataframe\">\n",
       "  <thead>\n",
       "    <tr style=\"text-align: right;\">\n",
       "      <th></th>\n",
       "      <th>Student ID</th>\n",
       "      <th>student_name</th>\n",
       "      <th>gender</th>\n",
       "      <th>year</th>\n",
       "      <th>school_name</th>\n",
       "      <th>reading_score</th>\n",
       "      <th>maths_score</th>\n",
       "      <th>School ID</th>\n",
       "      <th>type</th>\n",
       "      <th>size</th>\n",
       "      <th>budget</th>\n",
       "    </tr>\n",
       "  </thead>\n",
       "  <tbody>\n",
       "    <tr>\n",
       "      <th>0</th>\n",
       "      <td>0</td>\n",
       "      <td>Paul Bradley</td>\n",
       "      <td>M</td>\n",
       "      <td>9</td>\n",
       "      <td>Huang High School</td>\n",
       "      <td>96</td>\n",
       "      <td>94</td>\n",
       "      <td>0</td>\n",
       "      <td>Government</td>\n",
       "      <td>2917</td>\n",
       "      <td>1910635</td>\n",
       "    </tr>\n",
       "    <tr>\n",
       "      <th>1</th>\n",
       "      <td>1</td>\n",
       "      <td>Victor Smith</td>\n",
       "      <td>M</td>\n",
       "      <td>12</td>\n",
       "      <td>Huang High School</td>\n",
       "      <td>90</td>\n",
       "      <td>43</td>\n",
       "      <td>0</td>\n",
       "      <td>Government</td>\n",
       "      <td>2917</td>\n",
       "      <td>1910635</td>\n",
       "    </tr>\n",
       "    <tr>\n",
       "      <th>2</th>\n",
       "      <td>2</td>\n",
       "      <td>Kevin Rodriguez</td>\n",
       "      <td>M</td>\n",
       "      <td>12</td>\n",
       "      <td>Huang High School</td>\n",
       "      <td>41</td>\n",
       "      <td>76</td>\n",
       "      <td>0</td>\n",
       "      <td>Government</td>\n",
       "      <td>2917</td>\n",
       "      <td>1910635</td>\n",
       "    </tr>\n",
       "    <tr>\n",
       "      <th>3</th>\n",
       "      <td>3</td>\n",
       "      <td>Richard Scott</td>\n",
       "      <td>M</td>\n",
       "      <td>12</td>\n",
       "      <td>Huang High School</td>\n",
       "      <td>89</td>\n",
       "      <td>86</td>\n",
       "      <td>0</td>\n",
       "      <td>Government</td>\n",
       "      <td>2917</td>\n",
       "      <td>1910635</td>\n",
       "    </tr>\n",
       "    <tr>\n",
       "      <th>4</th>\n",
       "      <td>4</td>\n",
       "      <td>Bonnie Ray</td>\n",
       "      <td>F</td>\n",
       "      <td>9</td>\n",
       "      <td>Huang High School</td>\n",
       "      <td>87</td>\n",
       "      <td>69</td>\n",
       "      <td>0</td>\n",
       "      <td>Government</td>\n",
       "      <td>2917</td>\n",
       "      <td>1910635</td>\n",
       "    </tr>\n",
       "  </tbody>\n",
       "</table>\n",
       "</div>"
      ],
      "text/plain": [
       "   Student ID     student_name gender  year        school_name  reading_score  \\\n",
       "0           0     Paul Bradley      M     9  Huang High School             96   \n",
       "1           1     Victor Smith      M    12  Huang High School             90   \n",
       "2           2  Kevin Rodriguez      M    12  Huang High School             41   \n",
       "3           3    Richard Scott      M    12  Huang High School             89   \n",
       "4           4       Bonnie Ray      F     9  Huang High School             87   \n",
       "\n",
       "   maths_score  School ID        type  size   budget  \n",
       "0           94          0  Government  2917  1910635  \n",
       "1           43          0  Government  2917  1910635  \n",
       "2           76          0  Government  2917  1910635  \n",
       "3           86          0  Government  2917  1910635  \n",
       "4           69          0  Government  2917  1910635  "
      ]
     },
     "execution_count": 1,
     "metadata": {},
     "output_type": "execute_result"
    }
   ],
   "source": [
    "# Dependencies and Setup\n",
    "import pandas as pd\n",
    "\n",
    "# File to Load (Remember to Change These)\n",
    "school_data_to_load = \"Resources/schools_complete.csv\"\n",
    "student_data_to_load = \"Resources/students_complete.csv\"\n",
    "\n",
    "# Read School and Student Data File and store into Pandas DataFrames\n",
    "school_data = pd.read_csv(school_data_to_load)\n",
    "student_data = pd.read_csv(student_data_to_load)\n",
    "\n",
    "# Combine the data into a single dataset.  \n",
    "school_data_complete = pd.merge(student_data, school_data, how=\"left\", on=[\"school_name\", \"school_name\"])\n",
    "school_data_complete.head()\n"
   ]
  },
  {
   "cell_type": "markdown",
   "metadata": {},
   "source": [
    "## Local Government Area Summary\n",
    "\n",
    "* Calculate the total number of schools\n",
    "\n",
    "* Calculate the total number of students\n",
    "\n",
    "* Calculate the total budget\n",
    "\n",
    "* Calculate the average maths score \n",
    "\n",
    "* Calculate the average reading score\n",
    "\n",
    "* Calculate the percentage of students with a passing maths score (50 or greater)\n",
    "\n",
    "* Calculate the percentage of students with a passing reading score (50 or greater)\n",
    "\n",
    "* Calculate the percentage of students who passed maths **and** reading (% Overall Passing)\n",
    "\n",
    "* Create a dataframe to hold the above results\n",
    "\n",
    "* Optional: give the displayed data cleaner formatting"
   ]
  },
  {
   "cell_type": "code",
   "execution_count": 2,
   "metadata": {},
   "outputs": [
    {
     "data": {
      "text/plain": [
       "15"
      ]
     },
     "execution_count": 2,
     "metadata": {},
     "output_type": "execute_result"
    }
   ],
   "source": [
    "# Calculate the total number of schools\n",
    "\n",
    "unique_school_name=school_data_complete['school_name'].unique()\n",
    "\n",
    "\n",
    "total_school_number=len(unique_school_name)\n",
    "\n",
    "total_school_number"
   ]
  },
  {
   "cell_type": "code",
   "execution_count": 3,
   "metadata": {},
   "outputs": [
    {
     "data": {
      "text/plain": [
       "39170"
      ]
     },
     "execution_count": 3,
     "metadata": {},
     "output_type": "execute_result"
    }
   ],
   "source": [
    "# Calculate the total number of students\n",
    "total_students_number=school_data_complete[\"student_name\"].count()\n",
    "total_students_number"
   ]
  },
  {
   "cell_type": "code",
   "execution_count": 4,
   "metadata": {},
   "outputs": [
    {
     "data": {
      "text/plain": [
       "24649428"
      ]
     },
     "execution_count": 4,
     "metadata": {},
     "output_type": "execute_result"
    }
   ],
   "source": [
    "# Calculate the total budget\n",
    "total_budget = school_data[\"budget\"].sum()\n",
    "total_budget"
   ]
  },
  {
   "cell_type": "code",
   "execution_count": 5,
   "metadata": {},
   "outputs": [
    {
     "data": {
      "text/plain": [
       "70.33819249425581"
      ]
     },
     "execution_count": 5,
     "metadata": {},
     "output_type": "execute_result"
    }
   ],
   "source": [
    "# Calculate the average math score.\n",
    "average_math_score = school_data_complete[\"maths_score\"].mean()\n",
    "average_math_score"
   ]
  },
  {
   "cell_type": "code",
   "execution_count": 6,
   "metadata": {},
   "outputs": [
    {
     "data": {
      "text/plain": [
       "69.98013786060761"
      ]
     },
     "execution_count": 6,
     "metadata": {},
     "output_type": "execute_result"
    }
   ],
   "source": [
    "# Calculate the average reading score\n",
    "average_reading_score = school_data_complete[\"reading_score\"].mean()\n",
    "average_reading_score"
   ]
  },
  {
   "cell_type": "code",
   "execution_count": 7,
   "metadata": {},
   "outputs": [
    {
     "data": {
      "text/plain": [
       "51.460301250957365"
      ]
     },
     "execution_count": 7,
     "metadata": {},
     "output_type": "execute_result"
    }
   ],
   "source": [
    "#Calculate the percentage of students with a passing math score (70 or greater)\n",
    "\n",
    "students_passing_math = school_data_complete.loc[school_data_complete[\"maths_score\"] >= 70]\n",
    "number_students_passing_math = students_passing_math[\"Student ID\"].count()\n",
    "\n",
    "percent_passing_math = (number_students_passing_math / total_students_number) * 100\n",
    "\n",
    "percent_passing_math"
   ]
  },
  {
   "cell_type": "code",
   "execution_count": 8,
   "metadata": {},
   "outputs": [
    {
     "data": {
      "text/plain": [
       "50.814398774572375"
      ]
     },
     "execution_count": 8,
     "metadata": {},
     "output_type": "execute_result"
    }
   ],
   "source": [
    "# Calculate the percentage of students with a passing reading score (70 or greater)\n",
    "students_passing_reading = school_data_complete.loc[school_data_complete[\"reading_score\"] >= 70]\n",
    "number_students_passing_reading = students_passing_reading[\"Student ID\"].count()\n",
    "\n",
    "percent_passing_reading = (number_students_passing_reading / total_students_number) * 100\n",
    "percent_passing_reading"
   ]
  },
  {
   "cell_type": "code",
   "execution_count": 9,
   "metadata": {},
   "outputs": [
    {
     "data": {
      "text/plain": [
       "26.316058207812098"
      ]
     },
     "execution_count": 9,
     "metadata": {},
     "output_type": "execute_result"
    }
   ],
   "source": [
    "# Calculate the percentage of students who passed math and reading (% Overall Passing)\n",
    "\n",
    "Overall_passing = school_data_complete[(school_data_complete['maths_score'] >= 70) & (school_data_complete['reading_score'] >= 70)]['Student ID'].count()/total_students_number*100\n",
    "Overall_passing"
   ]
  },
  {
   "cell_type": "code",
   "execution_count": 10,
   "metadata": {},
   "outputs": [
    {
     "data": {
      "text/html": [
       "<div>\n",
       "<style scoped>\n",
       "    .dataframe tbody tr th:only-of-type {\n",
       "        vertical-align: middle;\n",
       "    }\n",
       "\n",
       "    .dataframe tbody tr th {\n",
       "        vertical-align: top;\n",
       "    }\n",
       "\n",
       "    .dataframe thead th {\n",
       "        text-align: right;\n",
       "    }\n",
       "</style>\n",
       "<table border=\"1\" class=\"dataframe\">\n",
       "  <thead>\n",
       "    <tr style=\"text-align: right;\">\n",
       "      <th></th>\n",
       "      <th>Total Schools</th>\n",
       "      <th>Total Students</th>\n",
       "      <th>Total Budget</th>\n",
       "      <th>Average Math Score</th>\n",
       "      <th>Average Reading Score</th>\n",
       "      <th>% Passing Math</th>\n",
       "      <th>% Passing Reading</th>\n",
       "      <th>% Overall Passing</th>\n",
       "    </tr>\n",
       "  </thead>\n",
       "  <tbody>\n",
       "    <tr>\n",
       "      <th>0</th>\n",
       "      <td>15</td>\n",
       "      <td>39,170</td>\n",
       "      <td>$24,649,428.00</td>\n",
       "      <td>70.338192</td>\n",
       "      <td>69.98014</td>\n",
       "      <td>51.460301</td>\n",
       "      <td>50.814399</td>\n",
       "      <td>26.316058</td>\n",
       "    </tr>\n",
       "  </tbody>\n",
       "</table>\n",
       "</div>"
      ],
      "text/plain": [
       "   Total Schools Total Students    Total Budget Average Math Score  \\\n",
       "0             15         39,170  $24,649,428.00          70.338192   \n",
       "\n",
       "  Average Reading Score % Passing Math % Passing Reading % Overall Passing  \n",
       "0              69.98014      51.460301         50.814399         26.316058  "
      ]
     },
     "execution_count": 10,
     "metadata": {},
     "output_type": "execute_result"
    }
   ],
   "source": [
    "# Create a dataframe to hold the above results\n",
    "district_summary = pd.DataFrame({\n",
    "    \"Total Schools\": total_school_number,\n",
    "    \"Total Students\": f\"{total_students_number:,}\",\n",
    "    \"Total Budget\": f\"${total_budget:,.2f}\",\n",
    "    \"Average Math Score\": f\"{average_math_score:.6f}\",\n",
    "    \"Average Reading Score\": f\"{average_reading_score:.5f}\",\n",
    "    \"% Passing Math\": f\"{percent_passing_math:.6f}\",\n",
    "    \"% Passing Reading\": f\"{percent_passing_reading:.6f}\",\n",
    "    \"% Overall Passing\": f\"{Overall_passing: .6f}\"\n",
    "}, index=[0])\n",
    "\n",
    "district_summary"
   ]
  },
  {
   "cell_type": "markdown",
   "metadata": {},
   "source": [
    "## School Summary"
   ]
  },
  {
   "cell_type": "markdown",
   "metadata": {},
   "source": [
    "* Create an overview table that summarises key metrics about each school, including:\n",
    "  * School Name\n",
    "  * School Type\n",
    "  * Total Students\n",
    "  * Total School Budget\n",
    "  * Per Student Budget\n",
    "  * Average Maths Score\n",
    "  * Average Reading Score\n",
    "  * % Passing Maths\n",
    "  * % Passing Reading\n",
    "  * % Overall Passing (The percentage of students that passed maths **and** reading.)\n",
    "  \n",
    "* Create a dataframe to hold the above results"
   ]
  },
  {
   "cell_type": "code",
   "execution_count": 11,
   "metadata": {},
   "outputs": [
    {
     "data": {
      "text/html": [
       "<style type=\"text/css\">\n",
       "</style>\n",
       "<table id=\"T_db8f4\">\n",
       "  <thead>\n",
       "    <tr>\n",
       "      <th class=\"blank level0\" >&nbsp;</th>\n",
       "      <th id=\"T_db8f4_level0_col0\" class=\"col_heading level0 col0\" >School Type</th>\n",
       "      <th id=\"T_db8f4_level0_col1\" class=\"col_heading level0 col1\" >Total Students</th>\n",
       "      <th id=\"T_db8f4_level0_col2\" class=\"col_heading level0 col2\" >Total School Budget</th>\n",
       "      <th id=\"T_db8f4_level0_col3\" class=\"col_heading level0 col3\" >Per Student Budget</th>\n",
       "      <th id=\"T_db8f4_level0_col4\" class=\"col_heading level0 col4\" >Average Math Score</th>\n",
       "      <th id=\"T_db8f4_level0_col5\" class=\"col_heading level0 col5\" >Average Reading Score</th>\n",
       "      <th id=\"T_db8f4_level0_col6\" class=\"col_heading level0 col6\" >% Passing Math</th>\n",
       "      <th id=\"T_db8f4_level0_col7\" class=\"col_heading level0 col7\" >% Passing Reading</th>\n",
       "      <th id=\"T_db8f4_level0_col8\" class=\"col_heading level0 col8\" >% Overall Passing</th>\n",
       "    </tr>\n",
       "    <tr>\n",
       "      <th class=\"index_name level0\" >school_name</th>\n",
       "      <th class=\"blank col0\" >&nbsp;</th>\n",
       "      <th class=\"blank col1\" >&nbsp;</th>\n",
       "      <th class=\"blank col2\" >&nbsp;</th>\n",
       "      <th class=\"blank col3\" >&nbsp;</th>\n",
       "      <th class=\"blank col4\" >&nbsp;</th>\n",
       "      <th class=\"blank col5\" >&nbsp;</th>\n",
       "      <th class=\"blank col6\" >&nbsp;</th>\n",
       "      <th class=\"blank col7\" >&nbsp;</th>\n",
       "      <th class=\"blank col8\" >&nbsp;</th>\n",
       "    </tr>\n",
       "  </thead>\n",
       "  <tbody>\n",
       "    <tr>\n",
       "      <th id=\"T_db8f4_level0_row0\" class=\"row_heading level0 row0\" >Bailey High School</th>\n",
       "      <td id=\"T_db8f4_row0_col0\" class=\"data row0 col0\" >Government</td>\n",
       "      <td id=\"T_db8f4_row0_col1\" class=\"data row0 col1\" >4976</td>\n",
       "      <td id=\"T_db8f4_row0_col2\" class=\"data row0 col2\" >$3,124,928.00</td>\n",
       "      <td id=\"T_db8f4_row0_col3\" class=\"data row0 col3\" >$628.00</td>\n",
       "      <td id=\"T_db8f4_row0_col4\" class=\"data row0 col4\" >72.352894</td>\n",
       "      <td id=\"T_db8f4_row0_col5\" class=\"data row0 col5\" >71.008842</td>\n",
       "      <td id=\"T_db8f4_row0_col6\" class=\"data row0 col6\" >55.225080</td>\n",
       "      <td id=\"T_db8f4_row0_col7\" class=\"data row0 col7\" >52.451768</td>\n",
       "      <td id=\"T_db8f4_row0_col8\" class=\"data row0 col8\" >29.159968</td>\n",
       "    </tr>\n",
       "    <tr>\n",
       "      <th id=\"T_db8f4_level0_row1\" class=\"row_heading level0 row1\" >Cabrera High School</th>\n",
       "      <td id=\"T_db8f4_row1_col0\" class=\"data row1 col0\" >Independent</td>\n",
       "      <td id=\"T_db8f4_row1_col1\" class=\"data row1 col1\" >1858</td>\n",
       "      <td id=\"T_db8f4_row1_col2\" class=\"data row1 col2\" >$1,081,356.00</td>\n",
       "      <td id=\"T_db8f4_row1_col3\" class=\"data row1 col3\" >$582.00</td>\n",
       "      <td id=\"T_db8f4_row1_col4\" class=\"data row1 col4\" >71.657158</td>\n",
       "      <td id=\"T_db8f4_row1_col5\" class=\"data row1 col5\" >71.359526</td>\n",
       "      <td id=\"T_db8f4_row1_col6\" class=\"data row1 col6\" >53.175457</td>\n",
       "      <td id=\"T_db8f4_row1_col7\" class=\"data row1 col7\" >53.283100</td>\n",
       "      <td id=\"T_db8f4_row1_col8\" class=\"data row1 col8\" >28.579117</td>\n",
       "    </tr>\n",
       "    <tr>\n",
       "      <th id=\"T_db8f4_level0_row2\" class=\"row_heading level0 row2\" >Figueroa High School</th>\n",
       "      <td id=\"T_db8f4_row2_col0\" class=\"data row2 col0\" >Government</td>\n",
       "      <td id=\"T_db8f4_row2_col1\" class=\"data row2 col1\" >2949</td>\n",
       "      <td id=\"T_db8f4_row2_col2\" class=\"data row2 col2\" >$1,884,411.00</td>\n",
       "      <td id=\"T_db8f4_row2_col3\" class=\"data row2 col3\" >$639.00</td>\n",
       "      <td id=\"T_db8f4_row2_col4\" class=\"data row2 col4\" >68.698542</td>\n",
       "      <td id=\"T_db8f4_row2_col5\" class=\"data row2 col5\" >69.077993</td>\n",
       "      <td id=\"T_db8f4_row2_col6\" class=\"data row2 col6\" >47.677179</td>\n",
       "      <td id=\"T_db8f4_row2_col7\" class=\"data row2 col7\" >49.169210</td>\n",
       "      <td id=\"T_db8f4_row2_col8\" class=\"data row2 col8\" >23.736860</td>\n",
       "    </tr>\n",
       "    <tr>\n",
       "      <th id=\"T_db8f4_level0_row3\" class=\"row_heading level0 row3\" >Ford High School</th>\n",
       "      <td id=\"T_db8f4_row3_col0\" class=\"data row3 col0\" >Government</td>\n",
       "      <td id=\"T_db8f4_row3_col1\" class=\"data row3 col1\" >2739</td>\n",
       "      <td id=\"T_db8f4_row3_col2\" class=\"data row3 col2\" >$1,763,916.00</td>\n",
       "      <td id=\"T_db8f4_row3_col3\" class=\"data row3 col3\" >$644.00</td>\n",
       "      <td id=\"T_db8f4_row3_col4\" class=\"data row3 col4\" >69.091274</td>\n",
       "      <td id=\"T_db8f4_row3_col5\" class=\"data row3 col5\" >69.572472</td>\n",
       "      <td id=\"T_db8f4_row3_col6\" class=\"data row3 col6\" >48.959474</td>\n",
       "      <td id=\"T_db8f4_row3_col7\" class=\"data row3 col7\" >50.492881</td>\n",
       "      <td id=\"T_db8f4_row3_col8\" class=\"data row3 col8\" >24.497992</td>\n",
       "    </tr>\n",
       "    <tr>\n",
       "      <th id=\"T_db8f4_level0_row4\" class=\"row_heading level0 row4\" >Griffin High School</th>\n",
       "      <td id=\"T_db8f4_row4_col0\" class=\"data row4 col0\" >Independent</td>\n",
       "      <td id=\"T_db8f4_row4_col1\" class=\"data row4 col1\" >1468</td>\n",
       "      <td id=\"T_db8f4_row4_col2\" class=\"data row4 col2\" >$917,500.00</td>\n",
       "      <td id=\"T_db8f4_row4_col3\" class=\"data row4 col3\" >$625.00</td>\n",
       "      <td id=\"T_db8f4_row4_col4\" class=\"data row4 col4\" >71.788147</td>\n",
       "      <td id=\"T_db8f4_row4_col5\" class=\"data row4 col5\" >71.245232</td>\n",
       "      <td id=\"T_db8f4_row4_col6\" class=\"data row4 col6\" >54.700272</td>\n",
       "      <td id=\"T_db8f4_row4_col7\" class=\"data row4 col7\" >54.155313</td>\n",
       "      <td id=\"T_db8f4_row4_col8\" class=\"data row4 col8\" >31.675749</td>\n",
       "    </tr>\n",
       "    <tr>\n",
       "      <th id=\"T_db8f4_level0_row5\" class=\"row_heading level0 row5\" >Hernandez High School</th>\n",
       "      <td id=\"T_db8f4_row5_col0\" class=\"data row5 col0\" >Government</td>\n",
       "      <td id=\"T_db8f4_row5_col1\" class=\"data row5 col1\" >4635</td>\n",
       "      <td id=\"T_db8f4_row5_col2\" class=\"data row5 col2\" >$3,022,020.00</td>\n",
       "      <td id=\"T_db8f4_row5_col3\" class=\"data row5 col3\" >$652.00</td>\n",
       "      <td id=\"T_db8f4_row5_col4\" class=\"data row5 col4\" >68.874865</td>\n",
       "      <td id=\"T_db8f4_row5_col5\" class=\"data row5 col5\" >69.186408</td>\n",
       "      <td id=\"T_db8f4_row5_col6\" class=\"data row5 col6\" >49.255663</td>\n",
       "      <td id=\"T_db8f4_row5_col7\" class=\"data row5 col7\" >49.471413</td>\n",
       "      <td id=\"T_db8f4_row5_col8\" class=\"data row5 col8\" >24.660194</td>\n",
       "    </tr>\n",
       "    <tr>\n",
       "      <th id=\"T_db8f4_level0_row6\" class=\"row_heading level0 row6\" >Holden High School</th>\n",
       "      <td id=\"T_db8f4_row6_col0\" class=\"data row6 col0\" >Independent</td>\n",
       "      <td id=\"T_db8f4_row6_col1\" class=\"data row6 col1\" >427</td>\n",
       "      <td id=\"T_db8f4_row6_col2\" class=\"data row6 col2\" >$248,087.00</td>\n",
       "      <td id=\"T_db8f4_row6_col3\" class=\"data row6 col3\" >$581.00</td>\n",
       "      <td id=\"T_db8f4_row6_col4\" class=\"data row6 col4\" >72.583138</td>\n",
       "      <td id=\"T_db8f4_row6_col5\" class=\"data row6 col5\" >71.660422</td>\n",
       "      <td id=\"T_db8f4_row6_col6\" class=\"data row6 col6\" >57.142857</td>\n",
       "      <td id=\"T_db8f4_row6_col7\" class=\"data row6 col7\" >55.503513</td>\n",
       "      <td id=\"T_db8f4_row6_col8\" class=\"data row6 col8\" >30.913349</td>\n",
       "    </tr>\n",
       "    <tr>\n",
       "      <th id=\"T_db8f4_level0_row7\" class=\"row_heading level0 row7\" >Huang High School</th>\n",
       "      <td id=\"T_db8f4_row7_col0\" class=\"data row7 col0\" >Government</td>\n",
       "      <td id=\"T_db8f4_row7_col1\" class=\"data row7 col1\" >2917</td>\n",
       "      <td id=\"T_db8f4_row7_col2\" class=\"data row7 col2\" >$1,910,635.00</td>\n",
       "      <td id=\"T_db8f4_row7_col3\" class=\"data row7 col3\" >$655.00</td>\n",
       "      <td id=\"T_db8f4_row7_col4\" class=\"data row7 col4\" >68.935207</td>\n",
       "      <td id=\"T_db8f4_row7_col5\" class=\"data row7 col5\" >68.910525</td>\n",
       "      <td id=\"T_db8f4_row7_col6\" class=\"data row7 col6\" >48.920123</td>\n",
       "      <td id=\"T_db8f4_row7_col7\" class=\"data row7 col7\" >49.777168</td>\n",
       "      <td id=\"T_db8f4_row7_col8\" class=\"data row7 col8\" >23.723003</td>\n",
       "    </tr>\n",
       "    <tr>\n",
       "      <th id=\"T_db8f4_level0_row8\" class=\"row_heading level0 row8\" >Johnson High School</th>\n",
       "      <td id=\"T_db8f4_row8_col0\" class=\"data row8 col0\" >Government</td>\n",
       "      <td id=\"T_db8f4_row8_col1\" class=\"data row8 col1\" >4761</td>\n",
       "      <td id=\"T_db8f4_row8_col2\" class=\"data row8 col2\" >$3,094,650.00</td>\n",
       "      <td id=\"T_db8f4_row8_col3\" class=\"data row8 col3\" >$650.00</td>\n",
       "      <td id=\"T_db8f4_row8_col4\" class=\"data row8 col4\" >68.843100</td>\n",
       "      <td id=\"T_db8f4_row8_col5\" class=\"data row8 col5\" >69.039277</td>\n",
       "      <td id=\"T_db8f4_row8_col6\" class=\"data row8 col6\" >48.771267</td>\n",
       "      <td id=\"T_db8f4_row8_col7\" class=\"data row8 col7\" >48.603235</td>\n",
       "      <td id=\"T_db8f4_row8_col8\" class=\"data row8 col8\" >23.881537</td>\n",
       "    </tr>\n",
       "    <tr>\n",
       "      <th id=\"T_db8f4_level0_row9\" class=\"row_heading level0 row9\" >Pena High School</th>\n",
       "      <td id=\"T_db8f4_row9_col0\" class=\"data row9 col0\" >Independent</td>\n",
       "      <td id=\"T_db8f4_row9_col1\" class=\"data row9 col1\" >962</td>\n",
       "      <td id=\"T_db8f4_row9_col2\" class=\"data row9 col2\" >$585,858.00</td>\n",
       "      <td id=\"T_db8f4_row9_col3\" class=\"data row9 col3\" >$609.00</td>\n",
       "      <td id=\"T_db8f4_row9_col4\" class=\"data row9 col4\" >72.088358</td>\n",
       "      <td id=\"T_db8f4_row9_col5\" class=\"data row9 col5\" >71.613306</td>\n",
       "      <td id=\"T_db8f4_row9_col6\" class=\"data row9 col6\" >55.405405</td>\n",
       "      <td id=\"T_db8f4_row9_col7\" class=\"data row9 col7\" >55.093555</td>\n",
       "      <td id=\"T_db8f4_row9_col8\" class=\"data row9 col8\" >30.457380</td>\n",
       "    </tr>\n",
       "    <tr>\n",
       "      <th id=\"T_db8f4_level0_row10\" class=\"row_heading level0 row10\" >Rodriguez High School</th>\n",
       "      <td id=\"T_db8f4_row10_col0\" class=\"data row10 col0\" >Government</td>\n",
       "      <td id=\"T_db8f4_row10_col1\" class=\"data row10 col1\" >3999</td>\n",
       "      <td id=\"T_db8f4_row10_col2\" class=\"data row10 col2\" >$2,547,363.00</td>\n",
       "      <td id=\"T_db8f4_row10_col3\" class=\"data row10 col3\" >$637.00</td>\n",
       "      <td id=\"T_db8f4_row10_col4\" class=\"data row10 col4\" >72.047762</td>\n",
       "      <td id=\"T_db8f4_row10_col5\" class=\"data row10 col5\" >70.935984</td>\n",
       "      <td id=\"T_db8f4_row10_col6\" class=\"data row10 col6\" >54.513628</td>\n",
       "      <td id=\"T_db8f4_row10_col7\" class=\"data row10 col7\" >52.788197</td>\n",
       "      <td id=\"T_db8f4_row10_col8\" class=\"data row10 col8\" >28.832208</td>\n",
       "    </tr>\n",
       "    <tr>\n",
       "      <th id=\"T_db8f4_level0_row11\" class=\"row_heading level0 row11\" >Shelton High School</th>\n",
       "      <td id=\"T_db8f4_row11_col0\" class=\"data row11 col0\" >Independent</td>\n",
       "      <td id=\"T_db8f4_row11_col1\" class=\"data row11 col1\" >1761</td>\n",
       "      <td id=\"T_db8f4_row11_col2\" class=\"data row11 col2\" >$1,056,600.00</td>\n",
       "      <td id=\"T_db8f4_row11_col3\" class=\"data row11 col3\" >$600.00</td>\n",
       "      <td id=\"T_db8f4_row11_col4\" class=\"data row11 col4\" >72.034072</td>\n",
       "      <td id=\"T_db8f4_row11_col5\" class=\"data row11 col5\" >70.257808</td>\n",
       "      <td id=\"T_db8f4_row11_col6\" class=\"data row11 col6\" >54.968768</td>\n",
       "      <td id=\"T_db8f4_row11_col7\" class=\"data row11 col7\" >49.290176</td>\n",
       "      <td id=\"T_db8f4_row11_col8\" class=\"data row11 col8\" >26.348666</td>\n",
       "    </tr>\n",
       "    <tr>\n",
       "      <th id=\"T_db8f4_level0_row12\" class=\"row_heading level0 row12\" >Thomas High School</th>\n",
       "      <td id=\"T_db8f4_row12_col0\" class=\"data row12 col0\" >Independent</td>\n",
       "      <td id=\"T_db8f4_row12_col1\" class=\"data row12 col1\" >1635</td>\n",
       "      <td id=\"T_db8f4_row12_col2\" class=\"data row12 col2\" >$1,043,130.00</td>\n",
       "      <td id=\"T_db8f4_row12_col3\" class=\"data row12 col3\" >$638.00</td>\n",
       "      <td id=\"T_db8f4_row12_col4\" class=\"data row12 col4\" >69.581651</td>\n",
       "      <td id=\"T_db8f4_row12_col5\" class=\"data row12 col5\" >69.768807</td>\n",
       "      <td id=\"T_db8f4_row12_col6\" class=\"data row12 col6\" >49.357798</td>\n",
       "      <td id=\"T_db8f4_row12_col7\" class=\"data row12 col7\" >50.703364</td>\n",
       "      <td id=\"T_db8f4_row12_col8\" class=\"data row12 col8\" >24.770642</td>\n",
       "    </tr>\n",
       "    <tr>\n",
       "      <th id=\"T_db8f4_level0_row13\" class=\"row_heading level0 row13\" >Wilson High School</th>\n",
       "      <td id=\"T_db8f4_row13_col0\" class=\"data row13 col0\" >Independent</td>\n",
       "      <td id=\"T_db8f4_row13_col1\" class=\"data row13 col1\" >2283</td>\n",
       "      <td id=\"T_db8f4_row13_col2\" class=\"data row13 col2\" >$1,319,574.00</td>\n",
       "      <td id=\"T_db8f4_row13_col3\" class=\"data row13 col3\" >$578.00</td>\n",
       "      <td id=\"T_db8f4_row13_col4\" class=\"data row13 col4\" >69.170828</td>\n",
       "      <td id=\"T_db8f4_row13_col5\" class=\"data row13 col5\" >68.876916</td>\n",
       "      <td id=\"T_db8f4_row13_col6\" class=\"data row13 col6\" >49.364871</td>\n",
       "      <td id=\"T_db8f4_row13_col7\" class=\"data row13 col7\" >48.313622</td>\n",
       "      <td id=\"T_db8f4_row13_col8\" class=\"data row13 col8\" >24.485326</td>\n",
       "    </tr>\n",
       "    <tr>\n",
       "      <th id=\"T_db8f4_level0_row14\" class=\"row_heading level0 row14\" >Wright High School</th>\n",
       "      <td id=\"T_db8f4_row14_col0\" class=\"data row14 col0\" >Independent</td>\n",
       "      <td id=\"T_db8f4_row14_col1\" class=\"data row14 col1\" >1800</td>\n",
       "      <td id=\"T_db8f4_row14_col2\" class=\"data row14 col2\" >$1,049,400.00</td>\n",
       "      <td id=\"T_db8f4_row14_col3\" class=\"data row14 col3\" >$583.00</td>\n",
       "      <td id=\"T_db8f4_row14_col4\" class=\"data row14 col4\" >72.047222</td>\n",
       "      <td id=\"T_db8f4_row14_col5\" class=\"data row14 col5\" >70.969444</td>\n",
       "      <td id=\"T_db8f4_row14_col6\" class=\"data row14 col6\" >54.444444</td>\n",
       "      <td id=\"T_db8f4_row14_col7\" class=\"data row14 col7\" >52.166667</td>\n",
       "      <td id=\"T_db8f4_row14_col8\" class=\"data row14 col8\" >28.444444</td>\n",
       "    </tr>\n",
       "  </tbody>\n",
       "</table>\n"
      ],
      "text/plain": [
       "<pandas.io.formats.style.Styler at 0x26cd83ffc50>"
      ]
     },
     "execution_count": 11,
     "metadata": {},
     "output_type": "execute_result"
    }
   ],
   "source": [
    "## Group by school name\n",
    "school_name = school_data_complete.set_index('school_name').groupby(['school_name'])\n",
    "# school types by school name\n",
    "school_type = school_data.set_index('school_name')['type']\n",
    "#  Calculate total students\n",
    "total_student = school_name['Student ID'].count()\n",
    "# Total school budget\n",
    "total_school_budget = school_data.set_index('school_name')['budget']\n",
    "# per student budget\n",
    "budget_per_student = (school_data.set_index('school_name')['budget']/school_data.set_index('school_name')['size'])\n",
    "# Average Math Score\n",
    "\n",
    "average_math_score = school_name['maths_score'].mean()\n",
    "# Average Reading Score\n",
    "average_reading_score = school_name['reading_score'].mean()\n",
    "# % Passing Math\n",
    "\n",
    "pass_math_percent = school_data_complete[school_data_complete['maths_score'] >= 70].groupby('school_name')['Student ID'].count()/total_student*100\n",
    "# % Passing Reading\n",
    "pass_read_percent = school_data_complete[school_data_complete['reading_score'] >= 70].groupby('school_name')['Student ID'].count()/total_student*100\n",
    "# % Overall Passing (The percentage of students that passed math and reading.\n",
    "\n",
    "overall_pass = school_data_complete[(school_data_complete['reading_score'] >= 70) & (school_data_complete['maths_score'] >= 70)].groupby('school_name')['Student ID'].count()/total_student*100\n",
    "school_summary = pd.DataFrame({\n",
    "    \"School Type\": school_type,\n",
    "    \"Total Students\": total_student,\n",
    "    \"Per Student Budget\": budget_per_student,\n",
    "    \"Total School Budget\": total_school_budget,\n",
    "    \"Average Math Score\": average_math_score,\n",
    "    \"Average Reading Score\": average_reading_score,\n",
    "    '% Passing Math': pass_math_percent,\n",
    "    '% Passing Reading': pass_read_percent,\n",
    "    \"% Overall Passing\": overall_pass\n",
    "})\n",
    "\n",
    "\n",
    "#munging\n",
    "school_summary = school_summary[['School Type', \n",
    "                          'Total Students', \n",
    "                          'Total School Budget', \n",
    "                          'Per Student Budget', \n",
    "                          'Average Math Score', \n",
    "                          'Average Reading Score',\n",
    "                          '% Passing Math',\n",
    "                          '% Passing Reading',\n",
    "                          '% Overall Passing']]\n",
    "\n",
    "\n",
    "#formatting\n",
    "school_summary.style.format({'Total Students': '{:}',\n",
    "                          \"Total School Budget\": \"${:,.2f}\",\n",
    "                          \"Per Student Budget\": \"${:.2f}\",\n",
    "                          'Average Math Score': \"{:6f}\", \n",
    "                          'Average Reading Score': \"{:6f}\", \n",
    "                          \"% Passing Math\": \"{:6f}\", \n",
    "                          \"% Passing Reading\": \"{:6f}\"})\n"
   ]
  },
  {
   "cell_type": "markdown",
   "metadata": {},
   "source": [
    "## Top Performing Schools (By % Overall Passing)"
   ]
  },
  {
   "cell_type": "markdown",
   "metadata": {},
   "source": [
    "* Sort and display the top five performing schools by % overall passing."
   ]
  },
  {
   "cell_type": "code",
   "execution_count": 12,
   "metadata": {
    "scrolled": true
   },
   "outputs": [
    {
     "data": {
      "text/html": [
       "<style type=\"text/css\">\n",
       "</style>\n",
       "<table id=\"T_a375b\">\n",
       "  <thead>\n",
       "    <tr>\n",
       "      <th class=\"blank level0\" >&nbsp;</th>\n",
       "      <th id=\"T_a375b_level0_col0\" class=\"col_heading level0 col0\" >School Type</th>\n",
       "      <th id=\"T_a375b_level0_col1\" class=\"col_heading level0 col1\" >Total Students</th>\n",
       "      <th id=\"T_a375b_level0_col2\" class=\"col_heading level0 col2\" >Total School Budget</th>\n",
       "      <th id=\"T_a375b_level0_col3\" class=\"col_heading level0 col3\" >Per Student Budget</th>\n",
       "      <th id=\"T_a375b_level0_col4\" class=\"col_heading level0 col4\" >Average Math Score</th>\n",
       "      <th id=\"T_a375b_level0_col5\" class=\"col_heading level0 col5\" >Average Reading Score</th>\n",
       "      <th id=\"T_a375b_level0_col6\" class=\"col_heading level0 col6\" >% Passing Math</th>\n",
       "      <th id=\"T_a375b_level0_col7\" class=\"col_heading level0 col7\" >% Passing Reading</th>\n",
       "      <th id=\"T_a375b_level0_col8\" class=\"col_heading level0 col8\" >% Overall Passing</th>\n",
       "    </tr>\n",
       "    <tr>\n",
       "      <th class=\"index_name level0\" >school_name</th>\n",
       "      <th class=\"blank col0\" >&nbsp;</th>\n",
       "      <th class=\"blank col1\" >&nbsp;</th>\n",
       "      <th class=\"blank col2\" >&nbsp;</th>\n",
       "      <th class=\"blank col3\" >&nbsp;</th>\n",
       "      <th class=\"blank col4\" >&nbsp;</th>\n",
       "      <th class=\"blank col5\" >&nbsp;</th>\n",
       "      <th class=\"blank col6\" >&nbsp;</th>\n",
       "      <th class=\"blank col7\" >&nbsp;</th>\n",
       "      <th class=\"blank col8\" >&nbsp;</th>\n",
       "    </tr>\n",
       "  </thead>\n",
       "  <tbody>\n",
       "    <tr>\n",
       "      <th id=\"T_a375b_level0_row0\" class=\"row_heading level0 row0\" >Griffin High School</th>\n",
       "      <td id=\"T_a375b_row0_col0\" class=\"data row0 col0\" >Independent</td>\n",
       "      <td id=\"T_a375b_row0_col1\" class=\"data row0 col1\" >1468</td>\n",
       "      <td id=\"T_a375b_row0_col2\" class=\"data row0 col2\" >$917,500.00</td>\n",
       "      <td id=\"T_a375b_row0_col3\" class=\"data row0 col3\" >$625.00</td>\n",
       "      <td id=\"T_a375b_row0_col4\" class=\"data row0 col4\" >71.788147</td>\n",
       "      <td id=\"T_a375b_row0_col5\" class=\"data row0 col5\" >71.245232</td>\n",
       "      <td id=\"T_a375b_row0_col6\" class=\"data row0 col6\" >54.700272</td>\n",
       "      <td id=\"T_a375b_row0_col7\" class=\"data row0 col7\" >54.155313</td>\n",
       "      <td id=\"T_a375b_row0_col8\" class=\"data row0 col8\" >31.675749</td>\n",
       "    </tr>\n",
       "    <tr>\n",
       "      <th id=\"T_a375b_level0_row1\" class=\"row_heading level0 row1\" >Holden High School</th>\n",
       "      <td id=\"T_a375b_row1_col0\" class=\"data row1 col0\" >Independent</td>\n",
       "      <td id=\"T_a375b_row1_col1\" class=\"data row1 col1\" >427</td>\n",
       "      <td id=\"T_a375b_row1_col2\" class=\"data row1 col2\" >$248,087.00</td>\n",
       "      <td id=\"T_a375b_row1_col3\" class=\"data row1 col3\" >$581.00</td>\n",
       "      <td id=\"T_a375b_row1_col4\" class=\"data row1 col4\" >72.583138</td>\n",
       "      <td id=\"T_a375b_row1_col5\" class=\"data row1 col5\" >71.660422</td>\n",
       "      <td id=\"T_a375b_row1_col6\" class=\"data row1 col6\" >57.142857</td>\n",
       "      <td id=\"T_a375b_row1_col7\" class=\"data row1 col7\" >55.503513</td>\n",
       "      <td id=\"T_a375b_row1_col8\" class=\"data row1 col8\" >30.913349</td>\n",
       "    </tr>\n",
       "    <tr>\n",
       "      <th id=\"T_a375b_level0_row2\" class=\"row_heading level0 row2\" >Pena High School</th>\n",
       "      <td id=\"T_a375b_row2_col0\" class=\"data row2 col0\" >Independent</td>\n",
       "      <td id=\"T_a375b_row2_col1\" class=\"data row2 col1\" >962</td>\n",
       "      <td id=\"T_a375b_row2_col2\" class=\"data row2 col2\" >$585,858.00</td>\n",
       "      <td id=\"T_a375b_row2_col3\" class=\"data row2 col3\" >$609.00</td>\n",
       "      <td id=\"T_a375b_row2_col4\" class=\"data row2 col4\" >72.088358</td>\n",
       "      <td id=\"T_a375b_row2_col5\" class=\"data row2 col5\" >71.613306</td>\n",
       "      <td id=\"T_a375b_row2_col6\" class=\"data row2 col6\" >55.405405</td>\n",
       "      <td id=\"T_a375b_row2_col7\" class=\"data row2 col7\" >55.093555</td>\n",
       "      <td id=\"T_a375b_row2_col8\" class=\"data row2 col8\" >30.457380</td>\n",
       "    </tr>\n",
       "    <tr>\n",
       "      <th id=\"T_a375b_level0_row3\" class=\"row_heading level0 row3\" >Bailey High School</th>\n",
       "      <td id=\"T_a375b_row3_col0\" class=\"data row3 col0\" >Government</td>\n",
       "      <td id=\"T_a375b_row3_col1\" class=\"data row3 col1\" >4976</td>\n",
       "      <td id=\"T_a375b_row3_col2\" class=\"data row3 col2\" >$3,124,928.00</td>\n",
       "      <td id=\"T_a375b_row3_col3\" class=\"data row3 col3\" >$628.00</td>\n",
       "      <td id=\"T_a375b_row3_col4\" class=\"data row3 col4\" >72.352894</td>\n",
       "      <td id=\"T_a375b_row3_col5\" class=\"data row3 col5\" >71.008842</td>\n",
       "      <td id=\"T_a375b_row3_col6\" class=\"data row3 col6\" >55.225080</td>\n",
       "      <td id=\"T_a375b_row3_col7\" class=\"data row3 col7\" >52.451768</td>\n",
       "      <td id=\"T_a375b_row3_col8\" class=\"data row3 col8\" >29.159968</td>\n",
       "    </tr>\n",
       "    <tr>\n",
       "      <th id=\"T_a375b_level0_row4\" class=\"row_heading level0 row4\" >Rodriguez High School</th>\n",
       "      <td id=\"T_a375b_row4_col0\" class=\"data row4 col0\" >Government</td>\n",
       "      <td id=\"T_a375b_row4_col1\" class=\"data row4 col1\" >3999</td>\n",
       "      <td id=\"T_a375b_row4_col2\" class=\"data row4 col2\" >$2,547,363.00</td>\n",
       "      <td id=\"T_a375b_row4_col3\" class=\"data row4 col3\" >$637.00</td>\n",
       "      <td id=\"T_a375b_row4_col4\" class=\"data row4 col4\" >72.047762</td>\n",
       "      <td id=\"T_a375b_row4_col5\" class=\"data row4 col5\" >70.935984</td>\n",
       "      <td id=\"T_a375b_row4_col6\" class=\"data row4 col6\" >54.513628</td>\n",
       "      <td id=\"T_a375b_row4_col7\" class=\"data row4 col7\" >52.788197</td>\n",
       "      <td id=\"T_a375b_row4_col8\" class=\"data row4 col8\" >28.832208</td>\n",
       "    </tr>\n",
       "  </tbody>\n",
       "</table>\n"
      ],
      "text/plain": [
       "<pandas.io.formats.style.Styler at 0x26cd83dd110>"
      ]
     },
     "execution_count": 12,
     "metadata": {},
     "output_type": "execute_result"
    }
   ],
   "source": [
    "# Sort and display the top five schools by passing rate \n",
    "top_perform = school_summary.sort_values(\"% Overall Passing\", ascending = False)\n",
    "top_perform.head().style.format({'Total Students': '{:}',\n",
    "                           \"Total School Budget\": \"${:,.2f}\", \n",
    "                           \"Per Student Budget\": \"${:.2f}\", \n",
    "                           \"% Passing Math\": \"{:6f}\", \n",
    "                           \"% Passing Reading\": \"{:6f}\", \n",
    "                           \"% Overall Passing\": \"{:6f}\"})"
   ]
  },
  {
   "cell_type": "markdown",
   "metadata": {},
   "source": [
    "## Bottom Performing Schools (By % Overall Passing)"
   ]
  },
  {
   "cell_type": "markdown",
   "metadata": {},
   "source": [
    "* Sort and display the five worst-performing schools by % overall passing."
   ]
  },
  {
   "cell_type": "code",
   "execution_count": 13,
   "metadata": {},
   "outputs": [
    {
     "data": {
      "text/html": [
       "<style type=\"text/css\">\n",
       "</style>\n",
       "<table id=\"T_944be\">\n",
       "  <thead>\n",
       "    <tr>\n",
       "      <th class=\"blank level0\" >&nbsp;</th>\n",
       "      <th id=\"T_944be_level0_col0\" class=\"col_heading level0 col0\" >School Type</th>\n",
       "      <th id=\"T_944be_level0_col1\" class=\"col_heading level0 col1\" >Total Students</th>\n",
       "      <th id=\"T_944be_level0_col2\" class=\"col_heading level0 col2\" >Total School Budget</th>\n",
       "      <th id=\"T_944be_level0_col3\" class=\"col_heading level0 col3\" >Per Student Budget</th>\n",
       "      <th id=\"T_944be_level0_col4\" class=\"col_heading level0 col4\" >Average Math Score</th>\n",
       "      <th id=\"T_944be_level0_col5\" class=\"col_heading level0 col5\" >Average Reading Score</th>\n",
       "      <th id=\"T_944be_level0_col6\" class=\"col_heading level0 col6\" >% Passing Math</th>\n",
       "      <th id=\"T_944be_level0_col7\" class=\"col_heading level0 col7\" >% Passing Reading</th>\n",
       "      <th id=\"T_944be_level0_col8\" class=\"col_heading level0 col8\" >% Overall Passing</th>\n",
       "    </tr>\n",
       "    <tr>\n",
       "      <th class=\"index_name level0\" >school_name</th>\n",
       "      <th class=\"blank col0\" >&nbsp;</th>\n",
       "      <th class=\"blank col1\" >&nbsp;</th>\n",
       "      <th class=\"blank col2\" >&nbsp;</th>\n",
       "      <th class=\"blank col3\" >&nbsp;</th>\n",
       "      <th class=\"blank col4\" >&nbsp;</th>\n",
       "      <th class=\"blank col5\" >&nbsp;</th>\n",
       "      <th class=\"blank col6\" >&nbsp;</th>\n",
       "      <th class=\"blank col7\" >&nbsp;</th>\n",
       "      <th class=\"blank col8\" >&nbsp;</th>\n",
       "    </tr>\n",
       "  </thead>\n",
       "  <tbody>\n",
       "    <tr>\n",
       "      <th id=\"T_944be_level0_row0\" class=\"row_heading level0 row0\" >Huang High School</th>\n",
       "      <td id=\"T_944be_row0_col0\" class=\"data row0 col0\" >Government</td>\n",
       "      <td id=\"T_944be_row0_col1\" class=\"data row0 col1\" > 2917</td>\n",
       "      <td id=\"T_944be_row0_col2\" class=\"data row0 col2\" >$1,910,635.00</td>\n",
       "      <td id=\"T_944be_row0_col3\" class=\"data row0 col3\" >$655.00</td>\n",
       "      <td id=\"T_944be_row0_col4\" class=\"data row0 col4\" >68.935207</td>\n",
       "      <td id=\"T_944be_row0_col5\" class=\"data row0 col5\" >68.910525</td>\n",
       "      <td id=\"T_944be_row0_col6\" class=\"data row0 col6\" >48.920123</td>\n",
       "      <td id=\"T_944be_row0_col7\" class=\"data row0 col7\" >49.777168</td>\n",
       "      <td id=\"T_944be_row0_col8\" class=\"data row0 col8\" >23.723003</td>\n",
       "    </tr>\n",
       "    <tr>\n",
       "      <th id=\"T_944be_level0_row1\" class=\"row_heading level0 row1\" >Figueroa High School</th>\n",
       "      <td id=\"T_944be_row1_col0\" class=\"data row1 col0\" >Government</td>\n",
       "      <td id=\"T_944be_row1_col1\" class=\"data row1 col1\" > 2949</td>\n",
       "      <td id=\"T_944be_row1_col2\" class=\"data row1 col2\" >$1,884,411.00</td>\n",
       "      <td id=\"T_944be_row1_col3\" class=\"data row1 col3\" >$639.00</td>\n",
       "      <td id=\"T_944be_row1_col4\" class=\"data row1 col4\" >68.698542</td>\n",
       "      <td id=\"T_944be_row1_col5\" class=\"data row1 col5\" >69.077993</td>\n",
       "      <td id=\"T_944be_row1_col6\" class=\"data row1 col6\" >47.677179</td>\n",
       "      <td id=\"T_944be_row1_col7\" class=\"data row1 col7\" >49.169210</td>\n",
       "      <td id=\"T_944be_row1_col8\" class=\"data row1 col8\" >23.736860</td>\n",
       "    </tr>\n",
       "    <tr>\n",
       "      <th id=\"T_944be_level0_row2\" class=\"row_heading level0 row2\" >Johnson High School</th>\n",
       "      <td id=\"T_944be_row2_col0\" class=\"data row2 col0\" >Government</td>\n",
       "      <td id=\"T_944be_row2_col1\" class=\"data row2 col1\" > 4761</td>\n",
       "      <td id=\"T_944be_row2_col2\" class=\"data row2 col2\" >$3,094,650.00</td>\n",
       "      <td id=\"T_944be_row2_col3\" class=\"data row2 col3\" >$650.00</td>\n",
       "      <td id=\"T_944be_row2_col4\" class=\"data row2 col4\" >68.843100</td>\n",
       "      <td id=\"T_944be_row2_col5\" class=\"data row2 col5\" >69.039277</td>\n",
       "      <td id=\"T_944be_row2_col6\" class=\"data row2 col6\" >48.771267</td>\n",
       "      <td id=\"T_944be_row2_col7\" class=\"data row2 col7\" >48.603235</td>\n",
       "      <td id=\"T_944be_row2_col8\" class=\"data row2 col8\" >23.881537</td>\n",
       "    </tr>\n",
       "    <tr>\n",
       "      <th id=\"T_944be_level0_row3\" class=\"row_heading level0 row3\" >Wilson High School</th>\n",
       "      <td id=\"T_944be_row3_col0\" class=\"data row3 col0\" >Independent</td>\n",
       "      <td id=\"T_944be_row3_col1\" class=\"data row3 col1\" > 2283</td>\n",
       "      <td id=\"T_944be_row3_col2\" class=\"data row3 col2\" >$1,319,574.00</td>\n",
       "      <td id=\"T_944be_row3_col3\" class=\"data row3 col3\" >$578.00</td>\n",
       "      <td id=\"T_944be_row3_col4\" class=\"data row3 col4\" >69.170828</td>\n",
       "      <td id=\"T_944be_row3_col5\" class=\"data row3 col5\" >68.876916</td>\n",
       "      <td id=\"T_944be_row3_col6\" class=\"data row3 col6\" >49.364871</td>\n",
       "      <td id=\"T_944be_row3_col7\" class=\"data row3 col7\" >48.313622</td>\n",
       "      <td id=\"T_944be_row3_col8\" class=\"data row3 col8\" >24.485326</td>\n",
       "    </tr>\n",
       "    <tr>\n",
       "      <th id=\"T_944be_level0_row4\" class=\"row_heading level0 row4\" >Ford High School</th>\n",
       "      <td id=\"T_944be_row4_col0\" class=\"data row4 col0\" >Government</td>\n",
       "      <td id=\"T_944be_row4_col1\" class=\"data row4 col1\" > 2739</td>\n",
       "      <td id=\"T_944be_row4_col2\" class=\"data row4 col2\" >$1,763,916.00</td>\n",
       "      <td id=\"T_944be_row4_col3\" class=\"data row4 col3\" >$644.00</td>\n",
       "      <td id=\"T_944be_row4_col4\" class=\"data row4 col4\" >69.091274</td>\n",
       "      <td id=\"T_944be_row4_col5\" class=\"data row4 col5\" >69.572472</td>\n",
       "      <td id=\"T_944be_row4_col6\" class=\"data row4 col6\" >48.959474</td>\n",
       "      <td id=\"T_944be_row4_col7\" class=\"data row4 col7\" >50.492881</td>\n",
       "      <td id=\"T_944be_row4_col8\" class=\"data row4 col8\" >24.497992</td>\n",
       "    </tr>\n",
       "  </tbody>\n",
       "</table>\n"
      ],
      "text/plain": [
       "<pandas.io.formats.style.Styler at 0x26cd6446510>"
      ]
     },
     "execution_count": 13,
     "metadata": {},
     "output_type": "execute_result"
    }
   ],
   "source": [
    "# Sort and display the bottom five schools by passing rate \n",
    "bottom_perform = top_perform.tail()\n",
    "bottom_perform = bottom_perform.sort_values('% Overall Passing')\n",
    "bottom_perform.style.format({'Total Students': '{: }', \n",
    "                       \"Total School Budget\": \"${:,.2f}\", \n",
    "                       \"Per Student Budget\": \"${:.2f}\", \n",
    "                       \"% Passing Math\": \"{:6f}\", \n",
    "                       \"% Passing Reading\": \"{:6f}\", \n",
    "                       \"% Overall Passing\": \"{:6f}\"})"
   ]
  },
  {
   "cell_type": "markdown",
   "metadata": {
    "collapsed": true
   },
   "source": [
    "## Maths Scores by Year"
   ]
  },
  {
   "cell_type": "markdown",
   "metadata": {},
   "source": [
    "* Create a table that lists the average maths score for students of each year level (9, 10, 11, 12) at each school.\n",
    "\n",
    "  * Create a pandas series for each year. Hint: use a conditional statement.\n",
    "  \n",
    "  * Group each series by school\n",
    "  \n",
    "  * Combine the series into a dataframe\n",
    "  \n",
    "  * Optional: give the displayed data cleaner formatting"
   ]
  },
  {
   "cell_type": "code",
   "execution_count": 14,
   "metadata": {},
   "outputs": [
    {
     "data": {
      "text/html": [
       "<style type=\"text/css\">\n",
       "</style>\n",
       "<table id=\"T_00768\">\n",
       "  <thead>\n",
       "    <tr>\n",
       "      <th class=\"blank level0\" >&nbsp;</th>\n",
       "      <th id=\"T_00768_level0_col0\" class=\"col_heading level0 col0\" >year 9</th>\n",
       "      <th id=\"T_00768_level0_col1\" class=\"col_heading level0 col1\" >year 10</th>\n",
       "      <th id=\"T_00768_level0_col2\" class=\"col_heading level0 col2\" >year 11</th>\n",
       "      <th id=\"T_00768_level0_col3\" class=\"col_heading level0 col3\" >year 12</th>\n",
       "    </tr>\n",
       "    <tr>\n",
       "      <th class=\"index_name level0\" >School Name</th>\n",
       "      <th class=\"blank col0\" >&nbsp;</th>\n",
       "      <th class=\"blank col1\" >&nbsp;</th>\n",
       "      <th class=\"blank col2\" >&nbsp;</th>\n",
       "      <th class=\"blank col3\" >&nbsp;</th>\n",
       "    </tr>\n",
       "  </thead>\n",
       "  <tbody>\n",
       "  </tbody>\n",
       "</table>\n"
      ],
      "text/plain": [
       "<pandas.io.formats.style.Styler at 0x26cd93ffc50>"
      ]
     },
     "execution_count": 14,
     "metadata": {},
     "output_type": "execute_result"
    }
   ],
   "source": [
    "#creates grade level average math scores for each school \n",
    "ninth_math = student_data.loc[student_data['year'] == 'year 9'].groupby('school_name')[\"maths_score\"].mean()\n",
    "tenth_math = student_data.loc[student_data['year'] == 'year 10'].groupby('school_name')[\"maths_score\"].mean()\n",
    "eleventh_math = student_data.loc[student_data['year'] == 'year 11'].groupby('school_name')[\"maths_score\"].mean()\n",
    "twelfth_math = student_data.loc[student_data['year'] == 'year 12'].groupby('school_name')[\"maths_score\"].mean()\n",
    "\n",
    "math_scores = pd.DataFrame({\n",
    "        \"year 9\": ninth_math,\n",
    "        \"year 10\": tenth_math,\n",
    "        \"year 11\": eleventh_math,\n",
    "        \"year 12\": twelfth_math\n",
    "})\n",
    "math_scores = math_scores[['year 9', 'year 10', 'year 11', 'year 12']]\n",
    "math_scores.index.name = \"School Name\"\n",
    "\n",
    "#show and format\n",
    "math_scores.style.format({'year 9': '{:.6f}', \n",
    "                          \"year 10\": '{:.6f}', \n",
    "                          \"year 11\": \"{:.6f}\", \n",
    "                          \"year 12\": \"{:.6f}\"})"
   ]
  },
  {
   "cell_type": "markdown",
   "metadata": {},
   "source": [
    "## Reading Score by Year"
   ]
  },
  {
   "cell_type": "markdown",
   "metadata": {},
   "source": [
    "* Perform the same operations as above for reading scores"
   ]
  },
  {
   "cell_type": "code",
   "execution_count": 18,
   "metadata": {},
   "outputs": [
    {
     "ename": "KeyError",
     "evalue": "\"None of [Index(['9th', '10th', '11th', '12th'], dtype='object')] are in the [columns]\"",
     "output_type": "error",
     "traceback": [
      "\u001b[1;31m---------------------------------------------------------------------------\u001b[0m",
      "\u001b[1;31mKeyError\u001b[0m                                  Traceback (most recent call last)",
      "Cell \u001b[1;32mIn[18], line 13\u001b[0m\n\u001b[0;32m      6\u001b[0m \u001b[38;5;66;03m#merges the reading score averages by school and grade together\u001b[39;00m\n\u001b[0;32m      7\u001b[0m reading_scores \u001b[38;5;241m=\u001b[39m pd\u001b[38;5;241m.\u001b[39mDataFrame({\n\u001b[0;32m      8\u001b[0m         \u001b[38;5;124m\"\u001b[39m\u001b[38;5;124myear 9\u001b[39m\u001b[38;5;124m\"\u001b[39m: ninth_reading,\n\u001b[0;32m      9\u001b[0m         \u001b[38;5;124m\"\u001b[39m\u001b[38;5;124myear 10\u001b[39m\u001b[38;5;124m\"\u001b[39m: tenth_reading,\n\u001b[0;32m     10\u001b[0m         \u001b[38;5;124m\"\u001b[39m\u001b[38;5;124myear 11\u001b[39m\u001b[38;5;124m\"\u001b[39m: eleventh_reading,\n\u001b[0;32m     11\u001b[0m         \u001b[38;5;124m\"\u001b[39m\u001b[38;5;124m year 12\u001b[39m\u001b[38;5;124m\"\u001b[39m: twelfth_reading\n\u001b[0;32m     12\u001b[0m })\n\u001b[1;32m---> 13\u001b[0m reading_scores \u001b[38;5;241m=\u001b[39m reading_scores[[\u001b[38;5;124m'\u001b[39m\u001b[38;5;124m9th\u001b[39m\u001b[38;5;124m'\u001b[39m, \u001b[38;5;124m'\u001b[39m\u001b[38;5;124m10th\u001b[39m\u001b[38;5;124m'\u001b[39m, \u001b[38;5;124m'\u001b[39m\u001b[38;5;124m11th\u001b[39m\u001b[38;5;124m'\u001b[39m, \u001b[38;5;124m'\u001b[39m\u001b[38;5;124m12th\u001b[39m\u001b[38;5;124m'\u001b[39m]]\n\u001b[0;32m     14\u001b[0m reading_scores\u001b[38;5;241m.\u001b[39mindex\u001b[38;5;241m.\u001b[39mname \u001b[38;5;241m=\u001b[39m \u001b[38;5;124m\"\u001b[39m\u001b[38;5;124mSchool Name\u001b[39m\u001b[38;5;124m\"\u001b[39m\n\u001b[0;32m     16\u001b[0m \u001b[38;5;66;03m#format\u001b[39;00m\n",
      "File \u001b[1;32mC:\\ProgramData\\anaconda3\\Lib\\site-packages\\pandas\\core\\frame.py:3767\u001b[0m, in \u001b[0;36mDataFrame.__getitem__\u001b[1;34m(self, key)\u001b[0m\n\u001b[0;32m   3765\u001b[0m     \u001b[38;5;28;01mif\u001b[39;00m is_iterator(key):\n\u001b[0;32m   3766\u001b[0m         key \u001b[38;5;241m=\u001b[39m \u001b[38;5;28mlist\u001b[39m(key)\n\u001b[1;32m-> 3767\u001b[0m     indexer \u001b[38;5;241m=\u001b[39m \u001b[38;5;28mself\u001b[39m\u001b[38;5;241m.\u001b[39mcolumns\u001b[38;5;241m.\u001b[39m_get_indexer_strict(key, \u001b[38;5;124m\"\u001b[39m\u001b[38;5;124mcolumns\u001b[39m\u001b[38;5;124m\"\u001b[39m)[\u001b[38;5;241m1\u001b[39m]\n\u001b[0;32m   3769\u001b[0m \u001b[38;5;66;03m# take() does not accept boolean indexers\u001b[39;00m\n\u001b[0;32m   3770\u001b[0m \u001b[38;5;28;01mif\u001b[39;00m \u001b[38;5;28mgetattr\u001b[39m(indexer, \u001b[38;5;124m\"\u001b[39m\u001b[38;5;124mdtype\u001b[39m\u001b[38;5;124m\"\u001b[39m, \u001b[38;5;28;01mNone\u001b[39;00m) \u001b[38;5;241m==\u001b[39m \u001b[38;5;28mbool\u001b[39m:\n",
      "File \u001b[1;32mC:\\ProgramData\\anaconda3\\Lib\\site-packages\\pandas\\core\\indexes\\base.py:5877\u001b[0m, in \u001b[0;36mIndex._get_indexer_strict\u001b[1;34m(self, key, axis_name)\u001b[0m\n\u001b[0;32m   5874\u001b[0m \u001b[38;5;28;01melse\u001b[39;00m:\n\u001b[0;32m   5875\u001b[0m     keyarr, indexer, new_indexer \u001b[38;5;241m=\u001b[39m \u001b[38;5;28mself\u001b[39m\u001b[38;5;241m.\u001b[39m_reindex_non_unique(keyarr)\n\u001b[1;32m-> 5877\u001b[0m \u001b[38;5;28mself\u001b[39m\u001b[38;5;241m.\u001b[39m_raise_if_missing(keyarr, indexer, axis_name)\n\u001b[0;32m   5879\u001b[0m keyarr \u001b[38;5;241m=\u001b[39m \u001b[38;5;28mself\u001b[39m\u001b[38;5;241m.\u001b[39mtake(indexer)\n\u001b[0;32m   5880\u001b[0m \u001b[38;5;28;01mif\u001b[39;00m \u001b[38;5;28misinstance\u001b[39m(key, Index):\n\u001b[0;32m   5881\u001b[0m     \u001b[38;5;66;03m# GH 42790 - Preserve name from an Index\u001b[39;00m\n",
      "File \u001b[1;32mC:\\ProgramData\\anaconda3\\Lib\\site-packages\\pandas\\core\\indexes\\base.py:5938\u001b[0m, in \u001b[0;36mIndex._raise_if_missing\u001b[1;34m(self, key, indexer, axis_name)\u001b[0m\n\u001b[0;32m   5936\u001b[0m     \u001b[38;5;28;01mif\u001b[39;00m use_interval_msg:\n\u001b[0;32m   5937\u001b[0m         key \u001b[38;5;241m=\u001b[39m \u001b[38;5;28mlist\u001b[39m(key)\n\u001b[1;32m-> 5938\u001b[0m     \u001b[38;5;28;01mraise\u001b[39;00m \u001b[38;5;167;01mKeyError\u001b[39;00m(\u001b[38;5;124mf\u001b[39m\u001b[38;5;124m\"\u001b[39m\u001b[38;5;124mNone of [\u001b[39m\u001b[38;5;132;01m{\u001b[39;00mkey\u001b[38;5;132;01m}\u001b[39;00m\u001b[38;5;124m] are in the [\u001b[39m\u001b[38;5;132;01m{\u001b[39;00maxis_name\u001b[38;5;132;01m}\u001b[39;00m\u001b[38;5;124m]\u001b[39m\u001b[38;5;124m\"\u001b[39m)\n\u001b[0;32m   5940\u001b[0m not_found \u001b[38;5;241m=\u001b[39m \u001b[38;5;28mlist\u001b[39m(ensure_index(key)[missing_mask\u001b[38;5;241m.\u001b[39mnonzero()[\u001b[38;5;241m0\u001b[39m]]\u001b[38;5;241m.\u001b[39munique())\n\u001b[0;32m   5941\u001b[0m \u001b[38;5;28;01mraise\u001b[39;00m \u001b[38;5;167;01mKeyError\u001b[39;00m(\u001b[38;5;124mf\u001b[39m\u001b[38;5;124m\"\u001b[39m\u001b[38;5;132;01m{\u001b[39;00mnot_found\u001b[38;5;132;01m}\u001b[39;00m\u001b[38;5;124m not in index\u001b[39m\u001b[38;5;124m\"\u001b[39m)\n",
      "\u001b[1;31mKeyError\u001b[0m: \"None of [Index(['9th', '10th', '11th', '12th'], dtype='object')] are in the [columns]\""
     ]
    }
   ],
   "source": [
    "ninth_reading = student_data.loc[student_data['year'] == '9th'].groupby('school_name')[\"reading_score\"].mean()\n",
    "tenth_reading = student_data.loc[student_data['year'] == '10th'].groupby('school_name')[\"reading_score\"].mean()\n",
    "eleventh_reading = student_data.loc[student_data['year'] == '11th'].groupby('school_name')[\"reading_score\"].mean()\n",
    "twelfth_reading = student_data.loc[student_data['year'] == '12th'].groupby('school_name')[\"reading_score\"].mean()\n",
    "\n",
    "#merges the reading score averages by school and grade together\n",
    "reading_scores = pd.DataFrame({\n",
    "        \"year 9\": ninth_reading,\n",
    "        \"year 10\": tenth_reading,\n",
    "        \"year 11\": eleventh_reading,\n",
    "        \" year 12\": twelfth_reading\n",
    "})\n",
    "reading_scores = reading_scores[['9th', '10th', '11th', '12th']]\n",
    "reading_scores.index.name = \"School Name\"\n",
    "\n",
    "#format\n",
    "reading_scores.style.format({'year 9': '{:.6f}', \n",
    "                             \"year 10\": '{:.6f}', \n",
    "                             \"year 11\": \"{:.6f}\", \n",
    "                             \"year 12\": \"{:.6f}\"})"
   ]
  },
  {
   "cell_type": "markdown",
   "metadata": {},
   "source": [
    "## Scores by School Spending"
   ]
  },
  {
   "cell_type": "markdown",
   "metadata": {},
   "source": [
    "* Create a table that breaks down school performances based on average Spending Ranges (Per Student). Use 4 reasonable bins to group school spending. Include in the table each of the following:\n",
    "  * Average Maths Score\n",
    "  * Average Reading Score\n",
    "  * % Passing Maths\n",
    "  * % Passing Reading\n",
    "  * Overall Passing Rate (Average of the above two)"
   ]
  },
  {
   "cell_type": "code",
   "execution_count": 17,
   "metadata": {},
   "outputs": [
    {
     "data": {
      "text/html": [
       "<style type=\"text/css\">\n",
       "</style>\n",
       "<table id=\"T_53311\">\n",
       "  <thead>\n",
       "    <tr>\n",
       "      <th class=\"blank level0\" >&nbsp;</th>\n",
       "      <th id=\"T_53311_level0_col0\" class=\"col_heading level0 col0\" >Average Math Score</th>\n",
       "      <th id=\"T_53311_level0_col1\" class=\"col_heading level0 col1\" >Average Reading Score</th>\n",
       "      <th id=\"T_53311_level0_col2\" class=\"col_heading level0 col2\" >% Passing Math</th>\n",
       "      <th id=\"T_53311_level0_col3\" class=\"col_heading level0 col3\" >% Passing Reading</th>\n",
       "      <th id=\"T_53311_level0_col4\" class=\"col_heading level0 col4\" >% Overall Passing</th>\n",
       "    </tr>\n",
       "    <tr>\n",
       "      <th class=\"index_name level0\" >Total Students</th>\n",
       "      <th class=\"blank col0\" >&nbsp;</th>\n",
       "      <th class=\"blank col1\" >&nbsp;</th>\n",
       "      <th class=\"blank col2\" >&nbsp;</th>\n",
       "      <th class=\"blank col3\" >&nbsp;</th>\n",
       "      <th class=\"blank col4\" >&nbsp;</th>\n",
       "    </tr>\n",
       "  </thead>\n",
       "  <tbody>\n",
       "    <tr>\n",
       "      <th id=\"T_53311_level0_row0\" class=\"row_heading level0 row0\" >Small (<1000)</th>\n",
       "      <td id=\"T_53311_row0_col0\" class=\"data row0 col0\" >72.240461</td>\n",
       "      <td id=\"T_53311_row0_col1\" class=\"data row0 col1\" >72.240461</td>\n",
       "      <td id=\"T_53311_row0_col2\" class=\"data row0 col2\" >55.939525</td>\n",
       "      <td id=\"T_53311_row0_col3\" class=\"data row0 col3\" >55.219582</td>\n",
       "      <td id=\"T_53311_row0_col4\" class=\"data row0 col4\" >30.597552</td>\n",
       "    </tr>\n",
       "    <tr>\n",
       "      <th id=\"T_53311_level0_row1\" class=\"row_heading level0 row1\" >Medium (1000-2000)</th>\n",
       "      <td id=\"T_53311_row1_col0\" class=\"data row1 col0\" >71.441798</td>\n",
       "      <td id=\"T_53311_row1_col1\" class=\"data row1 col1\" >71.441798</td>\n",
       "      <td id=\"T_53311_row1_col2\" class=\"data row1 col2\" >53.344285</td>\n",
       "      <td id=\"T_53311_row1_col3\" class=\"data row1 col3\" >51.877494</td>\n",
       "      <td id=\"T_53311_row1_col4\" class=\"data row1 col4\" >27.892513</td>\n",
       "    </tr>\n",
       "    <tr>\n",
       "      <th id=\"T_53311_level0_row2\" class=\"row_heading level0 row2\" >Large (2000-5000)</th>\n",
       "      <td id=\"T_53311_row2_col0\" class=\"data row2 col0\" >69.926450</td>\n",
       "      <td id=\"T_53311_row2_col1\" class=\"data row2 col1\" >69.926450</td>\n",
       "      <td id=\"T_53311_row2_col2\" class=\"data row2 col2\" >50.698930</td>\n",
       "      <td id=\"T_53311_row2_col3\" class=\"data row2 col3\" >50.295636</td>\n",
       "      <td id=\"T_53311_row2_col4\" class=\"data row2 col4\" >25.653645</td>\n",
       "    </tr>\n",
       "  </tbody>\n",
       "</table>\n"
      ],
      "text/plain": [
       "<pandas.io.formats.style.Styler at 0x26cdcb99590>"
      ]
     },
     "execution_count": 17,
     "metadata": {},
     "output_type": "execute_result"
    }
   ],
   "source": [
    "# create size bins\n",
    "bins = [0, 1000, 1999,5000]\n",
    "group_name = [\"Small (<1000)\", \"Medium (1000-2000)\" , \"Large (2000-5000)\"]\n",
    "school_data_complete['size_bins'] = pd.cut(school_data_complete['size'], bins, labels = group_name)\n",
    "\n",
    "#group by spending\n",
    "by_size = school_data_complete.groupby('size_bins')\n",
    "\n",
    "#calculations \n",
    "average_math_score = by_size['maths_score'].mean()\n",
    "average_reading_score = by_size['maths_score'].mean()\n",
    "pass_math_percent = school_data_complete[school_data_complete['maths_score'] >= 70].groupby('size_bins')['Student ID'].count()/by_size['Student ID'].count()*100\n",
    "pass_read_percent = school_data_complete[school_data_complete['reading_score'] >= 70].groupby('size_bins')['Student ID'].count()/by_size['Student ID'].count()*100\n",
    "overall = school_data_complete[(school_data_complete['reading_score'] >= 70) & (school_data_complete['maths_score'] >= 70)].groupby('size_bins')['Student ID'].count()/by_size['Student ID'].count()*100\n",
    "\n",
    "            \n",
    "# df build            \n",
    "scores_by_size = pd.DataFrame({\n",
    "    \"Average Math Score\": average_math_score,\n",
    "    \"Average Reading Score\": average_reading_score,\n",
    "    '% Passing Math': pass_math_percent,\n",
    "    '% Passing Reading': pass_read_percent,\n",
    "    '% Overall Passing': overall\n",
    "            \n",
    "})\n",
    "            \n",
    "#reorder columns\n",
    "scores_by_size = scores_by_size[[\n",
    "    \"Average Math Score\",\n",
    "    \"Average Reading Score\",\n",
    "    '% Passing Math',\n",
    "    '% Passing Reading',\n",
    "    '% Overall Passing'\n",
    "]]\n",
    "\n",
    "scores_by_size.index.name = \"Total Students\"\n",
    "scores_by_size = scores_by_size.reindex(group_name)\n",
    "\n",
    "#formating\n",
    "scores_by_size.style.format({'Average Math Score': '{:.6f}', \n",
    "                              'Average Reading Score': '{:.6f}', \n",
    "                              '% Passing Math': '{:.6f}', \n",
    "                              '% Passing Reading':'{:.6f}', \n",
    "                              '% Overall Passing': '{:.6f}'})"
   ]
  },
  {
   "cell_type": "markdown",
   "metadata": {},
   "source": [
    "## Scores by School Size"
   ]
  },
  {
   "cell_type": "markdown",
   "metadata": {},
   "source": [
    "* Perform the same operations as above, based on school size."
   ]
  },
  {
   "cell_type": "code",
   "execution_count": 22,
   "metadata": {
    "scrolled": true
   },
   "outputs": [
    {
     "data": {
      "text/html": [
       "<div>\n",
       "<style scoped>\n",
       "    .dataframe tbody tr th:only-of-type {\n",
       "        vertical-align: middle;\n",
       "    }\n",
       "\n",
       "    .dataframe tbody tr th {\n",
       "        vertical-align: top;\n",
       "    }\n",
       "\n",
       "    .dataframe thead th {\n",
       "        text-align: right;\n",
       "    }\n",
       "</style>\n",
       "<table border=\"1\" class=\"dataframe\">\n",
       "  <thead>\n",
       "    <tr style=\"text-align: right;\">\n",
       "      <th></th>\n",
       "      <th>Average Maths Score</th>\n",
       "      <th>Average Reading Score</th>\n",
       "      <th>% Passing Maths</th>\n",
       "      <th>% Passing Reading</th>\n",
       "      <th>% Overall Passing</th>\n",
       "    </tr>\n",
       "    <tr>\n",
       "      <th>School Size</th>\n",
       "      <th></th>\n",
       "      <th></th>\n",
       "      <th></th>\n",
       "      <th></th>\n",
       "      <th></th>\n",
       "    </tr>\n",
       "  </thead>\n",
       "  <tbody>\n",
       "    <tr>\n",
       "      <th>Small (&lt;1000)</th>\n",
       "      <td>72.335748</td>\n",
       "      <td>71.636864</td>\n",
       "      <td>90.806867</td>\n",
       "      <td>87.557513</td>\n",
       "      <td>79.066348</td>\n",
       "    </tr>\n",
       "    <tr>\n",
       "      <th>Medium (1000-2000)</th>\n",
       "      <td>71.421650</td>\n",
       "      <td>70.720164</td>\n",
       "      <td>89.846560</td>\n",
       "      <td>86.714149</td>\n",
       "      <td>78.039785</td>\n",
       "    </tr>\n",
       "    <tr>\n",
       "      <th>Large (2000-5000)</th>\n",
       "      <td>69.751809</td>\n",
       "      <td>69.576052</td>\n",
       "      <td>84.252804</td>\n",
       "      <td>83.301185</td>\n",
       "      <td>70.293507</td>\n",
       "    </tr>\n",
       "  </tbody>\n",
       "</table>\n",
       "</div>"
      ],
      "text/plain": [
       "                    Average Maths Score  Average Reading Score  \\\n",
       "School Size                                                      \n",
       "Small (<1000)                 72.335748              71.636864   \n",
       "Medium (1000-2000)            71.421650              70.720164   \n",
       "Large (2000-5000)             69.751809              69.576052   \n",
       "\n",
       "                    % Passing Maths  % Passing Reading  % Overall Passing  \n",
       "School Size                                                                \n",
       "Small (<1000)             90.806867          87.557513          79.066348  \n",
       "Medium (1000-2000)        89.846560          86.714149          78.039785  \n",
       "Large (2000-5000)         84.252804          83.301185          70.293507  "
      ]
     },
     "execution_count": 22,
     "metadata": {},
     "output_type": "execute_result"
    }
   ],
   "source": []
  },
  {
   "cell_type": "markdown",
   "metadata": {},
   "source": [
    "## Scores by School Type"
   ]
  },
  {
   "cell_type": "markdown",
   "metadata": {},
   "source": [
    "* Perform the same operations as above, based on school type"
   ]
  },
  {
   "cell_type": "code",
   "execution_count": 16,
   "metadata": {},
   "outputs": [
    {
     "data": {
      "text/html": [
       "<style type=\"text/css\">\n",
       "</style>\n",
       "<table id=\"T_3ead4\">\n",
       "  <thead>\n",
       "    <tr>\n",
       "      <th class=\"blank level0\" >&nbsp;</th>\n",
       "      <th id=\"T_3ead4_level0_col0\" class=\"col_heading level0 col0\" >Average Math Score</th>\n",
       "      <th id=\"T_3ead4_level0_col1\" class=\"col_heading level0 col1\" >Average Reading Score</th>\n",
       "      <th id=\"T_3ead4_level0_col2\" class=\"col_heading level0 col2\" >% Passing Math</th>\n",
       "      <th id=\"T_3ead4_level0_col3\" class=\"col_heading level0 col3\" >% Passing Reading</th>\n",
       "      <th id=\"T_3ead4_level0_col4\" class=\"col_heading level0 col4\" >% Overall Passing</th>\n",
       "    </tr>\n",
       "    <tr>\n",
       "      <th class=\"index_name level0\" >Type of School</th>\n",
       "      <th class=\"blank col0\" >&nbsp;</th>\n",
       "      <th class=\"blank col1\" >&nbsp;</th>\n",
       "      <th class=\"blank col2\" >&nbsp;</th>\n",
       "      <th class=\"blank col3\" >&nbsp;</th>\n",
       "      <th class=\"blank col4\" >&nbsp;</th>\n",
       "    </tr>\n",
       "  </thead>\n",
       "  <tbody>\n",
       "    <tr>\n",
       "      <th id=\"T_3ead4_level0_row0\" class=\"row_heading level0 row0\" >Government</th>\n",
       "      <td id=\"T_3ead4_row0_col0\" class=\"data row0 col0\" >69.990399</td>\n",
       "      <td id=\"T_3ead4_row0_col1\" class=\"data row0 col1\" >69.990399</td>\n",
       "      <td id=\"T_3ead4_row0_col2\" class=\"data row0 col2\" >50.811833</td>\n",
       "      <td id=\"T_3ead4_row0_col3\" class=\"data row0 col3\" >50.463375</td>\n",
       "      <td id=\"T_3ead4_row0_col4\" class=\"data row0 col4\" >25.752521</td>\n",
       "    </tr>\n",
       "    <tr>\n",
       "      <th id=\"T_3ead4_level0_row1\" class=\"row_heading level0 row1\" >Independent</th>\n",
       "      <td id=\"T_3ead4_row1_col0\" class=\"data row1 col0\" >71.107594</td>\n",
       "      <td id=\"T_3ead4_row1_col1\" class=\"data row1 col1\" >71.107594</td>\n",
       "      <td id=\"T_3ead4_row1_col2\" class=\"data row1 col2\" >52.894866</td>\n",
       "      <td id=\"T_3ead4_row1_col3\" class=\"data row1 col3\" >51.590946</td>\n",
       "      <td id=\"T_3ead4_row1_col4\" class=\"data row1 col4\" >27.562736</td>\n",
       "    </tr>\n",
       "  </tbody>\n",
       "</table>\n"
      ],
      "text/plain": [
       "<pandas.io.formats.style.Styler at 0x26cd9a2f810>"
      ]
     },
     "execution_count": 16,
     "metadata": {},
     "output_type": "execute_result"
    }
   ],
   "source": [
    "# group by type of school\n",
    "schoo_type = school_data_complete.groupby(\"type\")\n",
    "\n",
    "#calculations \n",
    "average_math_score = schoo_type['maths_score'].mean()\n",
    "average_reading_score = schoo_type['maths_score'].mean()\n",
    "pass_math_percent = school_data_complete[school_data_complete['maths_score'] >= 70].groupby('type')['Student ID'].count()/schoo_type['Student ID'].count()*100\n",
    "pass_read_percent = school_data_complete[school_data_complete['reading_score'] >= 70].groupby('type')['Student ID'].count()/schoo_type['Student ID'].count()*100\n",
    "overall = school_data_complete[(school_data_complete['reading_score'] >= 70) & (school_data_complete['maths_score'] >= 70)].groupby('type')['Student ID'].count()/schoo_type['Student ID'].count()*100\n",
    "\n",
    "# df build            \n",
    "scores_schoo_type = pd.DataFrame({\n",
    "    \"Average Math Score\": average_math_score,\n",
    "    \"Average Reading Score\": average_reading_score,\n",
    "    '% Passing Math': pass_math_percent,\n",
    "    '% Passing Reading': pass_read_percent,\n",
    "    \"% Overall Passing\": overall})\n",
    "    \n",
    "#reorder columns\n",
    "scores_schoo_type = scores_schoo_type[[\n",
    "    \"Average Math Score\",\n",
    "    \"Average Reading Score\",\n",
    "    '% Passing Math',\n",
    "    '% Passing Reading',\n",
    "    \"% Overall Passing\"\n",
    "]]\n",
    "scores_schoo_type.index.name = \"Type of School\"\n",
    "\n",
    "\n",
    "#formating\n",
    "scores_schoo_type.style.format({'Average Math Score': '{:.6f}', \n",
    "                              'Average Reading Score': '{:.6f}', \n",
    "                              '% Passing Math': '{:.6f}', \n",
    "                              '% Passing Reading':'{:.6f}', \n",
    "                              '% Overall Passing': '{:.6f}'})"
   ]
  },
  {
   "cell_type": "code",
   "execution_count": null,
   "metadata": {},
   "outputs": [],
   "source": []
  }
 ],
 "metadata": {
  "anaconda-cloud": {},
  "kernel_info": {
   "name": "python3"
  },
  "kernelspec": {
   "display_name": "Python 3 (ipykernel)",
   "language": "python",
   "name": "python3"
  },
  "language_info": {
   "codemirror_mode": {
    "name": "ipython",
    "version": 3
   },
   "file_extension": ".py",
   "mimetype": "text/x-python",
   "name": "python",
   "nbconvert_exporter": "python",
   "pygments_lexer": "ipython3",
   "version": "3.11.5"
  },
  "latex_envs": {
   "LaTeX_envs_menu_present": true,
   "autoclose": false,
   "autocomplete": true,
   "bibliofile": "biblio.bib",
   "cite_by": "apalike",
   "current_citInitial": 1,
   "eqLabelWithNumbers": true,
   "eqNumInitial": 1,
   "hotkeys": {
    "equation": "Ctrl-E",
    "itemize": "Ctrl-I"
   },
   "labels_anchors": false,
   "latex_user_defs": false,
   "report_style_numbering": false,
   "user_envs_cfg": false
  },
  "nteract": {
   "version": "0.8.4"
  }
 },
 "nbformat": 4,
 "nbformat_minor": 1
}
